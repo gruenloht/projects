{
 "cells": [
  {
   "cell_type": "markdown",
   "metadata": {},
   "source": [
    "# Aggregations: Min, Max, and Everything in Between\n",
    "\n",
    "Often when you are faced with a large amout of data, a first step is to compute summary statistics for the data in question.  Perhaps the most common summary statistics are mean and standard deviation, which allow you to summarize the \"typical\" values in a dataset, but other aggregates are useful as well (the sum, product, median, minimum, maximum, quantiles, ect.).\n",
    "\n",
    "NumPy has fast built-in aggregation functions working on arrays; we'll discuss and demonstrate some of them here.\n",
    "\n",
    "## Summing the Values in an Array\n",
    "\n",
    "As a quick example, consider computing the sum of all values in an array.  Python itself can do this using the built-in `sum` function:"
   ]
  },
  {
   "cell_type": "code",
   "execution_count": 1,
   "metadata": {},
   "outputs": [],
   "source": [
    "import numpy as np"
   ]
  },
  {
   "cell_type": "code",
   "execution_count": 2,
   "metadata": {},
   "outputs": [
    {
     "data": {
      "text/plain": [
       "53.30923167047889"
      ]
     },
     "execution_count": 2,
     "metadata": {},
     "output_type": "execute_result"
    }
   ],
   "source": [
    "L = np.random.random(100)\n",
    "sum(L)"
   ]
  },
  {
   "cell_type": "markdown",
   "metadata": {},
   "source": [
    "The syntax is quite similar to that of NumPy's `sum` function, and the result is the same in the simplest case:"
   ]
  },
  {
   "cell_type": "code",
   "execution_count": 3,
   "metadata": {},
   "outputs": [
    {
     "data": {
      "text/plain": [
       "53.309231670478894"
      ]
     },
     "execution_count": 3,
     "metadata": {},
     "output_type": "execute_result"
    }
   ],
   "source": [
    "np.sum(L)"
   ]
  },
  {
   "cell_type": "markdown",
   "metadata": {},
   "source": [
    "However, becasue it executes the operation in compiled code, NumPy's version of the operation is computed much more quickly:"
   ]
  },
  {
   "cell_type": "code",
   "execution_count": 4,
   "metadata": {},
   "outputs": [
    {
     "name": "stdout",
     "output_type": "stream",
     "text": [
      "376 ms ± 40.8 ms per loop (mean ± std. dev. of 7 runs, 1 loop each)\n",
      "2.04 ms ± 159 µs per loop (mean ± std. dev. of 7 runs, 100 loops each)\n"
     ]
    }
   ],
   "source": [
    "big_array = np.random.rand(1000000)\n",
    "%timeit sum(big_array)\n",
    "%timeit np.sum(big_array)"
   ]
  },
  {
   "cell_type": "markdown",
   "metadata": {},
   "source": [
    "Be careful though, the `sum` function and the `np.sum` function are not identical, which can sometimes lead to confusion!  In particular, their optional arguments have different meanings, and `np.sum` is aware of multiple array dimensions, as we will se in the following section.\n",
    "\n",
    "## Minimum and Maximum\n",
    "\n",
    "Similarly, Python has built-in `min` and `max` functions, used to find the minimum value and the maximum value of any given array:"
   ]
  },
  {
   "cell_type": "code",
   "execution_count": 5,
   "metadata": {},
   "outputs": [
    {
     "data": {
      "text/plain": [
       "(1.9259075689781469e-07, 0.9999992294210022)"
      ]
     },
     "execution_count": 5,
     "metadata": {},
     "output_type": "execute_result"
    }
   ],
   "source": [
    "min(big_array), max(big_array)"
   ]
  },
  {
   "cell_type": "markdown",
   "metadata": {},
   "source": [
    "NumPy's corresponding functions have similar syntax, and again operate much more quickly:"
   ]
  },
  {
   "cell_type": "code",
   "execution_count": 6,
   "metadata": {},
   "outputs": [
    {
     "data": {
      "text/plain": [
       "(1.9259075689781469e-07, 0.9999992294210022)"
      ]
     },
     "execution_count": 6,
     "metadata": {},
     "output_type": "execute_result"
    }
   ],
   "source": [
    "np.min(big_array), np.max(big_array)"
   ]
  },
  {
   "cell_type": "code",
   "execution_count": 8,
   "metadata": {},
   "outputs": [
    {
     "name": "stdout",
     "output_type": "stream",
     "text": [
      "263 ms ± 33 ms per loop (mean ± std. dev. of 7 runs, 1 loop each)\n",
      "847 µs ± 27.9 µs per loop (mean ± std. dev. of 7 runs, 1000 loops each)\n"
     ]
    }
   ],
   "source": [
    "%timeit min(big_array)\n",
    "%timeit np.min(big_array)"
   ]
  },
  {
   "cell_type": "markdown",
   "metadata": {},
   "source": [
    "Whenever possible, make sure that you are using the NumPy version of these aggregates when operating on NumPy arrays!\n",
    "\n",
    "#### Multidimensional aggregates\n",
    "One common type of aggregation operation is an aggregate along a row or column.  Say you have some data stored in a two-dimensional array:"
   ]
  },
  {
   "cell_type": "code",
   "execution_count": 9,
   "metadata": {},
   "outputs": [
    {
     "name": "stdout",
     "output_type": "stream",
     "text": [
      "[[0.6842286  0.24919755 0.9427999  0.49710518]\n",
      " [0.92477703 0.38768675 0.92959117 0.45472111]\n",
      " [0.67658117 0.92791706 0.07787253 0.02831696]]\n"
     ]
    }
   ],
   "source": [
    "M = np.random.random((3,4))\n",
    "print(M)"
   ]
  },
  {
   "cell_type": "markdown",
   "metadata": {},
   "source": [
    "By default, each NumPy aggregation will return the aggregate over the entire array:"
   ]
  },
  {
   "cell_type": "code",
   "execution_count": 12,
   "metadata": {},
   "outputs": [
    {
     "data": {
      "text/plain": [
       "6.780794997348058"
      ]
     },
     "execution_count": 12,
     "metadata": {},
     "output_type": "execute_result"
    }
   ],
   "source": [
    "M.sum()"
   ]
  },
  {
   "cell_type": "markdown",
   "metadata": {},
   "source": [
    "Aggregation functions take an additional argument specifying the *axis* along which the aggregate is computed.  For example, we can find the minimum value within each column by specifying `axis=0`:"
   ]
  },
  {
   "cell_type": "code",
   "execution_count": 13,
   "metadata": {},
   "outputs": [
    {
     "data": {
      "text/plain": [
       "array([0.67658117, 0.24919755, 0.07787253, 0.02831696])"
      ]
     },
     "execution_count": 13,
     "metadata": {},
     "output_type": "execute_result"
    }
   ],
   "source": [
    "M.min(axis=0)"
   ]
  },
  {
   "cell_type": "markdown",
   "metadata": {},
   "source": [
    "The function returns four values, corresponding to the four columns of numbers. \n",
    "\n",
    "Similarly, we can find the maximum value within each row:"
   ]
  },
  {
   "cell_type": "code",
   "execution_count": 14,
   "metadata": {},
   "outputs": [
    {
     "data": {
      "text/plain": [
       "array([0.9427999 , 0.92959117, 0.92791706])"
      ]
     },
     "execution_count": 14,
     "metadata": {},
     "output_type": "execute_result"
    }
   ],
   "source": [
    "M.max(axis=1)"
   ]
  },
  {
   "cell_type": "markdown",
   "metadata": {},
   "source": [
    "The way the axis is specified here can be confusing to users coming from other languages.  The `axis` keyword specifies the *dimensions of the array that will be collapsed* rather than the dimension that will be returned.  So specifying `axis=0` means that the first axis will be collapsed: for two-dimensional arrays, this means that the values within each column will be aggregated.\n",
    "\n",
    "#### Other aggregation functions\n",
    "\n",
    "NumPy provides many other aggregation functions, but we won't discuss them in detail here.  Additionally, most aggregates have a `NaN`-safe counterpart that computes the result while ignoring missing values, which are marked by the speciall IEEE floating-point `NaN` value (for a fuller discussion of missing data, see \"Handeling Missing Data\" in chapter 3).  Some of these `NaN`-safe functions were not added until NumPy 1.8, so they will not be available in older NumPy versions\n",
    "\n",
    "Here is a table that provides a list of useful aggregation functions available in NumPy:\n",
    "\n",
    "| Function Name | NaN-safe Version | Descriptions |\n",
    "|---------------|--------------------|--------------|\n",
    "| `np.sum` | `np.nansum` | Compute sum of elements |\n",
    "| `np.prod` | `np.nanprod` | Compute product of elements |\n",
    "| `np.mean` | `np.nanmean` | Compute mean of elements |\n",
    "| `np.std` | `np.nanstd` | Compute standard deviation | \n",
    "| `np.var` | `np.nanvar` | Compute variance | \n",
    "| `np.min` | `np.nanmin` | Find minimum value | \n",
    "| `np.max` | `np.nanmax` | Find maximum value | \n",
    "| `np.argmin` | `np.nanargmin` | Find index of minimum value |\n",
    "| `np.argmax` | `np.nanargmax` | Find index of maximum value | \n",
    "| `np.median` | `np.nanmedian` | Compute median of elements |\n",
    "| `np.percentile` | `np.nanpercentile` | Compute rank-based statistics of elements | \n",
    "| `np.any` | N/A | Evaluate whether any elements are true | \n",
    "| `np.all` | N/A | Evaluate whether all elements are true |\n",
    "\n",
    "We will use these often throughout the rest of this book\n",
    "\n",
    "### Example: What is the Average Height of US Presidents?\n",
    "\n",
    "Aggregates available in NumPy can be extremely useful for summarizing a set of values.  As a simple example, let's consider the heights of all US presidents.  This data is available in the file *president_heights.csv*, which is a simple comma-separated list of labels and values"
   ]
  },
  {
   "cell_type": "code",
   "execution_count": 22,
   "metadata": {},
   "outputs": [
    {
     "data": {
      "text/plain": [
       "array([189, 170, 189, 163, 183, 171, 185, 168, 173, 183, 173, 173, 175,\n",
       "       178, 183, 193, 178, 173, 174, 183, 183, 168, 170, 178, 182, 180,\n",
       "       183, 178, 182, 188, 175, 179, 183, 193, 182, 183, 177, 185, 188,\n",
       "       188, 182, 185], dtype=int64)"
      ]
     },
     "execution_count": 22,
     "metadata": {},
     "output_type": "execute_result"
    }
   ],
   "source": [
    "import pandas as pd\n",
    "data = pd.read_csv('C:/Users/tim/Desktop/DataScienceHandbook/PythonDataScienceHandbook/notebooks/data/president_heights.csv')\n",
    "height = np.array(data['height(cm)'])\n",
    "height"
   ]
  },
  {
   "cell_type": "code",
   "execution_count": 30,
   "metadata": {},
   "outputs": [
    {
     "name": "stdout",
     "output_type": "stream",
     "text": [
      "Mean Height:\t\t 179.73809523809524\n",
      "Standard Deviation:\t 6.931843442745892\n",
      "Minimum Height\t\t 163\n",
      "Maximum Height:\t\t 193\n"
     ]
    }
   ],
   "source": [
    "print('Mean Height:\\t\\t', np.mean(height))\n",
    "print('Standard Deviation:\\t', np.std(height))\n",
    "print('Minimum Height\\t\\t', np.min(height))\n",
    "print('Maximum Height:\\t\\t', np.max(height))"
   ]
  },
  {
   "cell_type": "markdown",
   "metadata": {},
   "source": [
    "Note that in each case, the aggregation operation reduced the entire array to a single summarizing value, which gives us information about the distribution of values.  We may also wish to compute quantiles:"
   ]
  },
  {
   "cell_type": "code",
   "execution_count": 34,
   "metadata": {},
   "outputs": [
    {
     "name": "stdout",
     "output_type": "stream",
     "text": [
      "25th percentile:\t 174.25\n",
      "Median:\t\t\t 182.0\n",
      "75th percentile:\t 183.0\n"
     ]
    }
   ],
   "source": [
    "print('25th percentile:\\t', np.percentile(height, 25))\n",
    "print('Median:\\t\\t\\t', np.median(height))\n",
    "print('75th percentile:\\t', np.percentile(height, 75))"
   ]
  },
  {
   "cell_type": "markdown",
   "metadata": {},
   "source": [
    "We see that median height of US presidents is 182 cm, or just shy of six feet.\n",
    "\n",
    "Of course sometimes it's more useful to see a visual representation of thsi data, which we can accomplish using tools in Matplotlib (discussed more in chapter 5).  For example this code generates the a histogram"
   ]
  },
  {
   "cell_type": "code",
   "execution_count": 35,
   "metadata": {},
   "outputs": [],
   "source": [
    "import matplotlib.pyplot as plt\n",
    "import seaborn; seaborn.set() # set plot style"
   ]
  },
  {
   "cell_type": "code",
   "execution_count": 38,
   "metadata": {},
   "outputs": [
    {
     "data": {
      "image/png": "[encoded data removed]",
      "text/plain": [
       "<Figure size 432x288 with 1 Axes>"
      ]
     },
     "metadata": {},
     "output_type": "display_data"
    }
   ],
   "source": [
    "plt.hist(height)\n",
    "plt.title('Height Distribution of US Presidents')\n",
    "plt.xlabel('Height (cm)')\n",
    "plt.ylabel('Count')\n",
    "plt.show()# gets rid of the text at the top"
   ]
  },
  {
   "cell_type": "markdown",
   "metadata": {},
   "source": [
    "These aggregates are some of the fundamental pieces of exploratory data analysis that we'll explore in more depth in later chapters of this book"
   ]
  }
 ],
 "metadata": {
  "kernelspec": {
   "display_name": "Python 3",
   "language": "python",
   "name": "python3"
  },
  "language_info": {
   "codemirror_mode": {
    "name": "ipython",
    "version": 3
   },
   "file_extension": ".py",
   "mimetype": "text/x-python",
   "name": "python",
   "nbconvert_exporter": "python",
   "pygments_lexer": "ipython3",
   "version": "3.7.4"
  }
 },
 "nbformat": 4,
 "nbformat_minor": 2
}
