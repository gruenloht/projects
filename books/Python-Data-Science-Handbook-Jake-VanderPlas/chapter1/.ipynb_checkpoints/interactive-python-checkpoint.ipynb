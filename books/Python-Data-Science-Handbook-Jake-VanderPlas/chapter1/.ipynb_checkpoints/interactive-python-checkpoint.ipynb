{
 "cells": [
  {
   "cell_type": "markdown",
   "metadata": {},
   "source": [
    "## Shell commands in IPython\n",
    "\n",
    "To run ipython, type `ipython` or `ipython3` in the command line\n",
    "\n",
    "While in ipython, you can use `!` to tell the shell you want to type a system command line.  Anythin after the `!` on a line will be executed not by the Python kernel, but by the system command line\n",
    "\n",
    "EX:\n",
    "\n",
    "`In [0]: !pwd`\n",
    "\n",
    "or\n",
    "\n",
    "`In [1]: !echo \"printing from the shell!\"`\n",
    "\n",
    "`printing from the shell`\n",
    "\n",
    "\n"
   ]
  },
  {
   "cell_type": "markdown",
   "metadata": {},
   "source": [
    "## Passing Values to and from the Shell\n",
    "\n",
    "Shell commands can not only be called from IPython, but can also be made to interact with the IPython namespace.  For example, you can save the output of any shell command to a python list usig the assignment operator\n",
    "\n",
    "``In [2]: contents = !ls``\n",
    "\n",
    "`In [3]: directory = !pwd`\n",
    "\n",
    "Note that the results are not returned as a list but as a special shell return type defined in IPython\n",
    "\n",
    "`In [4]: type(directory)`\n",
    "\n",
    "`IPython.utils.text.SList`\n",
    "\n",
    "\n",
    "This looks and acts like a Python list, but has additional funcitonality such as the grep and fields methods and the s, n, and p properties that allow you to search, filter and display the results in convenient ways.  For more info on these, you can use IPython's built in help features.\n",
    "\n",
    "\n",
    "Communication in the other direction - passing through Python variables into the shell - is possible through the `{varname}` sytnax:\n",
    "\n",
    "`In [5]: message = 'hello from python'`\n",
    "\n",
    "`In [6]: !echo {message}`"
   ]
  },
  {
   "cell_type": "markdown",
   "metadata": {},
   "source": [
    "## Shell-Related Magic Commands\n",
    "\n",
    "If you play wiht IPython's shell commands for a while you might notice that you can't use !cd to navigate the filesystem\n",
    "\n",
    "`In [7]: !cd`\n",
    "\n",
    "The reason is that the shell commands in the notebook are executed in a temporary subshell.  If you'd like to change the working directory in a more eduring way, you can us the `%cd` magic command:\n",
    "\n",
    "`In [8]: cd ..`\n",
    "\n",
    "You can acutally use it without the magic sign\n",
    "\n",
    "`In [9]: cd ..`\n",
    "\n",
    "This is known as an automagic function and this behavior can be toggled with the `%automagic` magic function.  Besides `%cd`, other available shell-like magic function are:\n",
    "* `%cat`\n",
    "* `%cp`\n",
    "* `%env`\n",
    "* `%ls`\n",
    "* `%man`\n",
    "* `%mkdir`\n",
    "* `%more`\n",
    "* `%mv`\n",
    "* `%pwd`\n",
    "* `%rm`\n",
    "* `%rmdir`\n",
    "\n",
    "and all of them can be used without the `%` if automagic is on.  This makes it so that you can almost treat the IPython prompt as if it's a normal shell\n",
    "\n",
    "`In [10]: mkdir tmp`\n",
    "\n",
    "`In [11]: ls`\n",
    "\n",
    "`In [12]: rm -r tmp`"
   ]
  }
 ],
 "metadata": {
  "kernelspec": {
   "display_name": "Python 3",
   "language": "python",
   "name": "python3"
  },
  "language_info": {
   "codemirror_mode": {
    "name": "ipython",
    "version": 3
   },
   "file_extension": ".py",
   "mimetype": "text/x-python",
   "name": "python",
   "nbconvert_exporter": "python",
   "pygments_lexer": "ipython3",
   "version": "3.7.4"
  }
 },
 "nbformat": 4,
 "nbformat_minor": 2
}
